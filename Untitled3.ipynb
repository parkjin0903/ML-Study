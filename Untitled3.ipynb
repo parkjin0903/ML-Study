{
  "nbformat": 4,
  "nbformat_minor": 0,
  "metadata": {
    "colab": {
      "name": "Untitled3.ipynb",
      "provenance": []
    },
    "kernelspec": {
      "name": "python3",
      "display_name": "Python 3"
    },
    "language_info": {
      "name": "python"
    }
  },
  "cells": [
    {
      "cell_type": "code",
      "execution_count": null,
      "metadata": {
        "id": "FRMbzQ2Qo77d"
      },
      "outputs": [],
      "source": [
        ""
      ]
    },
    {
      "cell_type": "code",
      "source": [
        ""
      ],
      "metadata": {
        "id": "F0rTn6L3pC2Z"
      },
      "execution_count": null,
      "outputs": []
    },
    {
      "cell_type": "code",
      "source": [
        "from google.colab import drive\n",
        "drive.mount('/gdrive')"
      ],
      "metadata": {
        "colab": {
          "base_uri": "https://localhost:8080/"
        },
        "id": "_eJUyX2kpD7I",
        "outputId": "58a338ba-9d0c-45f9-fa08-d2596d0e9039"
      },
      "execution_count": null,
      "outputs": [
        {
          "output_type": "stream",
          "name": "stdout",
          "text": [
            "Mounted at /gdrive\n"
          ]
        }
      ]
    },
    {
      "cell_type": "code",
      "source": [
        "!ls -al '/gdrive'"
      ],
      "metadata": {
        "colab": {
          "base_uri": "https://localhost:8080/"
        },
        "id": "wmCbzQI2pD7I",
        "outputId": "512e003d-9359-442a-fe96-1daf46350f5b"
      },
      "execution_count": null,
      "outputs": [
        {
          "output_type": "stream",
          "name": "stdout",
          "text": [
            "total 16\n",
            "dr-x------ 2 root root 4096 Apr 14 10:37 .file-revisions-by-id\n",
            "drwx------ 4 root root 4096 Apr 14 10:37 MyDrive\n",
            "dr-x------ 2 root root 4096 Apr 14 10:37 .shortcut-targets-by-id\n",
            "drwx------ 5 root root 4096 Apr 14 10:37 .Trash-0\n"
          ]
        }
      ]
    },
    {
      "cell_type": "code",
      "source": [
        "import pandas as pd"
      ],
      "metadata": {
        "id": "5mb0zJFUt1jT"
      },
      "execution_count": null,
      "outputs": []
    }
  ]
}